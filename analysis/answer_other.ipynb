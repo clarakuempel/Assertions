{
 "cells": [
  {
   "cell_type": "code",
   "execution_count": 1,
   "metadata": {},
   "outputs": [],
   "source": [
    "import pandas  as pd"
   ]
  },
  {
   "cell_type": "code",
   "execution_count": 11,
   "metadata": {},
   "outputs": [],
   "source": [
    "path = \"../data/meta_llama_Llama_3_1_8B_generated_assertions_v2_500/results.csv\"\n",
    "df = pd.read_csv(path)"
   ]
  },
  {
   "cell_type": "code",
   "execution_count": 12,
   "metadata": {},
   "outputs": [
    {
     "data": {
      "text/plain": [
       "generated_answer\n",
       " I                 1499\n",
       " The                869\n",
       " Is                 753\n",
       "<|end_of_text|>     312\n",
       " If                 193\n",
       "                   ... \n",
       " Anglic               1\n",
       " Ta                   1\n",
       " Jerusalem            1\n",
       " Titanic              1\n",
       " Buenos               1\n",
       "Name: count, Length: 225, dtype: int64"
      ]
     },
     "execution_count": 12,
     "metadata": {},
     "output_type": "execute_result"
    }
   ],
   "source": [
    "df[(~df[\"generated_answer\"].str.contains(\"Yes\")) & (~df[\"generated_answer\"].str.contains(\"No\"))][\"generated_answer\"].value_counts()"
   ]
  },
  {
   "cell_type": "code",
   "execution_count": null,
   "metadata": {},
   "outputs": [],
   "source": []
  }
 ],
 "metadata": {
  "kernelspec": {
   "display_name": "default",
   "language": "python",
   "name": "python3"
  },
  "language_info": {
   "codemirror_mode": {
    "name": "ipython",
    "version": 3
   },
   "file_extension": ".py",
   "mimetype": "text/x-python",
   "name": "python",
   "nbconvert_exporter": "python",
   "pygments_lexer": "ipython3",
   "version": "3.11.9"
  }
 },
 "nbformat": 4,
 "nbformat_minor": 2
}
