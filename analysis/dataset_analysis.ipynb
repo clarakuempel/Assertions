{
 "cells": [
  {
   "cell_type": "code",
   "execution_count": 1,
   "id": "f05900ea",
   "metadata": {},
   "outputs": [],
   "source": [
    "import pandas as pd"
   ]
  },
  {
   "cell_type": "code",
   "execution_count": 4,
   "id": "d82f2bc7",
   "metadata": {},
   "outputs": [
    {
     "name": "stdout",
     "output_type": "stream",
     "text": [
      "/Users/kdu/code/rycolab/Assertions/analysis\n"
     ]
    }
   ],
   "source": [
    "!pwd"
   ]
  },
  {
   "cell_type": "code",
   "execution_count": 14,
   "id": "305a072e",
   "metadata": {},
   "outputs": [],
   "source": [
    "df = pd.read_json(\"../data/generated_assertions_v2_500.jsonl\", lines=True)"
   ]
  },
  {
   "cell_type": "code",
   "execution_count": 15,
   "id": "2812e4a2",
   "metadata": {},
   "outputs": [
    {
     "data": {
      "text/plain": [
       "fact\n",
       "{'subject': 'The Man with the Golden Arm', 'relation': 'composer', 'object_ctx': 'Thurston Moore', 'object_pri': 'Elmer Bernstein', 'object_ctx_aliases': ['Thurston Joseph Moore'], 'object_prior_aliases': [], 'possible_prior_answers': ['Elmer Bernstein'], 'obj_prior_id': 68384, 'subj_pop': 7751, 'obj_pop': 12438, 'subject_relation': 'the composer of The Man with the Golden Arm', 'extra_info_obj_ctx': 'is the composer of Heavy', 'condition': 'Buenos Aires is the capital of Argentina', 'counterfactual_condition': 'Buenos Aires were the capital of Argentina', 'condition_index': 55, 'authority_source': 'Encyclopedia Britannica', 'belief_source': 'my colleague'}                                                                                                                                                                                                   34\n",
       "{'subject': 'Ross the Boss', 'relation': 'genre', 'object_ctx': 'sitcom', 'object_pri': 'heavy metal', 'object_ctx_aliases': ['situational comedy', 'situation comedy'], 'object_prior_aliases': ['heavy metal music', 'Heavy Metal', 'Metal', 'Metal music', 'metal', 'Heavy Metal Music'], 'possible_prior_answers': ['heavy metal', 'heavy metal music', 'Heavy Metal', 'Metal', 'Metal music', 'metal', 'Heavy Metal Music'], 'obj_prior_id': 1238567, 'subj_pop': 3082, 'obj_pop': 106297, 'subject_relation': 'the genre of Ross the Boss', 'extra_info_obj_ctx': 'is the genre of Amen', 'condition': 'Beijing is the capital of People's Republic of China', 'counterfactual_condition': 'Beijing were the capital of People's Republic of China', 'condition_index': 5, 'authority_source': 'Encyclopedia Britannica', 'belief_source': 'my teacher'}                              34\n",
       "{'subject': 'Everley Gregg', 'relation': 'occupation', 'object_ctx': 'journalist', 'object_pri': 'actor', 'object_ctx_aliases': ['journo', 'journalists'], 'object_prior_aliases': ['actress', 'actors', 'actresses'], 'possible_prior_answers': ['actor', 'actress', 'actors', 'actresses'], 'obj_prior_id': 1114174, 'subj_pop': 745, 'obj_pop': 81374, 'subject_relation': 'the occupation of Everley Gregg', 'extra_info_obj_ctx': 'is the occupation of Pierre Abraham', 'condition': 'Santo Domingo is the capital of Dominican Republic', 'counterfactual_condition': 'Santo Domingo were the capital of Dominican Republic', 'condition_index': 79, 'authority_source': 'government records', 'belief_source': 'my colleague'}                                                                                                                                                      34\n",
       "{'subject': 'The Appointment', 'relation': 'screenwriter', 'object_ctx': 'Erich Segal', 'object_pri': 'James Salter', 'object_ctx_aliases': ['Erich Wolf Segal'], 'object_prior_aliases': ['James Arnold Horowitz'], 'possible_prior_answers': ['James Salter', 'James Arnold Horowitz'], 'obj_prior_id': 220878, 'subj_pop': 1030, 'obj_pop': 2226, 'subject_relation': 'the screenwriter of The Appointment', 'extra_info_obj_ctx': 'is the author of Oliver's Story', 'condition': 'Baptists is the religion of Bill Clinton', 'counterfactual_condition': 'Baptists were the religion of Bill Clinton', 'condition_index': 16, 'authority_source': 'government records', 'belief_source': 'Sarah'}                                                                                                                                                                                      34\n",
       "{'subject': 'Dawn', 'relation': 'producer', 'object_ctx': 'Clive Barker', 'object_pri': 'Herbert Wilcox', 'object_ctx_aliases': [], 'object_prior_aliases': ['Herbert Sydney Wilcox'], 'possible_prior_answers': ['Herbert Wilcox', 'Herbert Sydney Wilcox'], 'obj_prior_id': 451400, 'subj_pop': 166, 'obj_pop': 1216, 'subject_relation': 'the producer of Dawn', 'extra_info_obj_ctx': 'is the producer of The Plague', 'condition': 'Mexico City is the capital of Mexico', 'counterfactual_condition': 'Mexico City were the capital of Mexico', 'condition_index': 32, 'authority_source': 'Encyclopedia Britannica', 'belief_source': 'the scholar'}                                                                                                                                                                                                                                 34\n",
       "                                                                                                                                                                                                                                                                                                                                                                                                                                                                                                                                                                                                                                                                                                                                                                                                                                                                                            ..\n",
       "{'subject': 'In the Park', 'relation': 'screenwriter', 'object_ctx': 'Mario Bonnard', 'object_pri': 'Charlie Chaplin', 'object_ctx_aliases': [], 'object_prior_aliases': ['Charles Spencer Chaplin', 'Charles Chaplin', 'Sir Charles Spencer Chaplin'], 'possible_prior_answers': ['Charlie Chaplin', 'Charles Spencer Chaplin', 'Charles Chaplin', 'Sir Charles Spencer Chaplin'], 'obj_prior_id': 2865458, 'subj_pop': 308, 'obj_pop': 273103, 'subject_relation': 'the screenwriter of In the Park', 'extra_info_obj_ctx': 'is the screenwriter of The Ferocious Saladin', 'condition': 'Baptists is the religion of Abraham Lincoln', 'counterfactual_condition': 'Baptists were the religion of Abraham Lincoln', 'condition_index': 30, 'authority_source': 'historical documents', 'belief_source': 'my professor'}                                                                  34\n",
       "{'subject': 'Getting Even', 'relation': 'author', 'object_ctx': 'August Strindberg', 'object_pri': 'Woody Allen', 'object_ctx_aliases': ['Johan August Strindberg', 'A. Sṭrindberg', 'Augusts Strindbergs', 'August Johan Strindberg', 'Sutorintoberuku'], 'object_prior_aliases': ['Allan Stewart Konigsberg', 'Allen Stewart Konigsberg', 'Heywood Allen'], 'possible_prior_answers': ['Woody Allen', 'Allan Stewart Konigsberg', 'Allen Stewart Konigsberg', 'Heywood Allen'], 'obj_prior_id': 850153, 'subj_pop': 256, 'obj_pop': 223466, 'subject_relation': 'the author of Getting Even', 'extra_info_obj_ctx': 'is the author of Easter', 'condition': 'Buenos Aires is the capital of Argentina', 'counterfactual_condition': 'Buenos Aires were the capital of Argentina', 'condition_index': 55, 'authority_source': 'Encyclopedia Britannica', 'belief_source': 'the expert'}    34\n",
       "{'subject': 'Chances Are', 'relation': 'composer', 'object_ctx': 'Victor Herbert', 'object_pri': 'Maurice Jarre', 'object_ctx_aliases': ['Victor August Herbert'], 'object_prior_aliases': ['Maurice-Alexis Jarre'], 'possible_prior_answers': ['Maurice Jarre', 'Maurice-Alexis Jarre'], 'obj_prior_id': 30941, 'subj_pop': 6357, 'obj_pop': 14429, 'subject_relation': 'the composer of Chances Are', 'extra_info_obj_ctx': 'is the composer of Eileen', 'condition': 'Toronto is the capital of Ontario', 'counterfactual_condition': 'Toronto were the capital of Ontario', 'condition_index': 83, 'authority_source': 'the reference manual', 'belief_source': 'my teacher'}                                                                                                                                                                                                           34\n",
       "{'subject': 'Paul Lieber', 'relation': 'occupation', 'object_ctx': 'physicist', 'object_pri': 'actor', 'object_ctx_aliases': [], 'object_prior_aliases': ['actress', 'actors', 'actresses'], 'possible_prior_answers': ['actor', 'actress', 'actors', 'actresses'], 'obj_prior_id': 1114174, 'subj_pop': 787, 'obj_pop': 81374, 'subject_relation': 'the occupation of Paul Lieber', 'extra_info_obj_ctx': 'is the occupation of Karol Życzkowski', 'condition': 'Bucharest is the capital of Romania', 'counterfactual_condition': 'Bucharest were the capital of Romania', 'condition_index': 50, 'authority_source': 'scholarly sources', 'belief_source': 'Sarah'}                                                                                                                                                                                                                      34\n",
       "{'subject': 'Rent', 'relation': 'composer', 'object_ctx': 'Charlie Clouser', 'object_pri': 'Jonathan Larson', 'object_ctx_aliases': ['Charles Alexander Clouser'], 'object_prior_aliases': ['Jonathan David Larson'], 'possible_prior_answers': ['Jonathan Larson', 'Jonathan David Larson'], 'obj_prior_id': 1323367, 'subj_pop': 123783, 'obj_pop': 210522, 'subject_relation': 'the composer of Rent', 'extra_info_obj_ctx': 'is the composer of Saw', 'condition': 'Harrisburg is the capital of Pennsylvania', 'counterfactual_condition': 'Harrisburg were the capital of Pennsylvania', 'condition_index': 44, 'authority_source': 'Wikipedia', 'belief_source': 'my friend'}                                                                                                                                                                                                        34\n",
       "Name: count, Length: 500, dtype: int64"
      ]
     },
     "execution_count": 15,
     "metadata": {},
     "output_type": "execute_result"
    }
   ],
   "source": [
    "df[\"fact\"].value_counts() # should all have the same number of facts"
   ]
  },
  {
   "cell_type": "code",
   "execution_count": null,
   "id": "394aa5e9",
   "metadata": {},
   "outputs": [],
   "source": []
  }
 ],
 "metadata": {
  "kernelspec": {
   "display_name": "Python 3",
   "language": "python",
   "name": "python3"
  },
  "language_info": {
   "codemirror_mode": {
    "name": "ipython",
    "version": 3
   },
   "file_extension": ".py",
   "mimetype": "text/x-python",
   "name": "python",
   "nbconvert_exporter": "python",
   "pygments_lexer": "ipython3",
   "version": "3.11.12"
  }
 },
 "nbformat": 4,
 "nbformat_minor": 5
}
